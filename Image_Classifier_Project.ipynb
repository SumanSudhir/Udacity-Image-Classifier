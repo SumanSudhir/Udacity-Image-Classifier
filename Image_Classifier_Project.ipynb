{
  "nbformat": 4,
  "nbformat_minor": 0,
  "metadata": {
    "colab": {
      "name": "Image Classifier Project.ipynb",
      "version": "0.3.2",
      "provenance": [],
      "collapsed_sections": [],
      "toc_visible": true
    },
    "kernelspec": {
      "name": "python3",
      "display_name": "Python 3"
    },
    "accelerator": "GPU"
  },
  "cells": [
    {
      "metadata": {
        "id": "W_3dEWj7k3T9",
        "colab_type": "text"
      },
      "cell_type": "markdown",
      "source": [
        "# Developing an AI application\n",
        "\n",
        "Going forward, AI algorithms will be incorporated into more and more everyday applications. For example, you might want to include an image classifier in a smart phone app. To do this, you'd use a deep learning model trained on hundreds of thousands of images as part of the overall application architecture. A large part of software development in the future will be using these types of models as common parts of applications. \n",
        "\n",
        "In this project, you'll train an image classifier to recognize different species of flowers. You can imagine using something like this in a phone app that tells you the name of the flower your camera is looking at. In practice you'd train this classifier, then export it for use in your application. We'll be using [this dataset](http://www.robots.ox.ac.uk/~vgg/data/flowers/102/index.html) of 102 flower categories, you can see a few examples below. \n",
        "\n",
        "<img src='assets/Flowers.png' width=500px>\n",
        "\n",
        "The project is broken down into multiple steps:\n",
        "\n",
        "* Load and preprocess the image dataset\n",
        "* Train the image classifier on your dataset\n",
        "* Use the trained classifier to predict image content\n",
        "\n",
        "We'll lead you through each part which you'll implement in Python.\n",
        "\n",
        "When you've completed this project, you'll have an application that can be trained on any set of labeled images. Here your network will be learning about flowers and end up as a command line application. But, what you do with your new skills depends on your imagination and effort in building a dataset. For example, imagine an app where you take a picture of a car, it tells you what the make and model is, then looks up information about it. Go build your own dataset and make something new.\n",
        "\n",
        "First up is importing the packages you'll need. It's good practice to keep all the imports at the beginning of your code. As you work through this notebook and find you need to import a package, make sure to add the import up here."
      ]
    },
    {
      "metadata": {
        "id": "Werxf2dYARW_",
        "colab_type": "code",
        "outputId": "6024762f-a00b-4364-a877-2ca6d7327e50",
        "colab": {
          "base_uri": "https://localhost:8080/",
          "height": 125579
        }
      },
      "cell_type": "code",
      "source": [
        "!wget https://s3.amazonaws.com/content.udacity-data.com/courses/nd188/flower_data.zip\n",
        "!unzip flower_data.zip  "
      ],
      "execution_count": 0,
      "outputs": [
        {
          "output_type": "stream",
          "text": [
            "--2019-01-03 04:32:23--  https://s3.amazonaws.com/content.udacity-data.com/courses/nd188/flower_data.zip\n",
            "Resolving s3.amazonaws.com (s3.amazonaws.com)... 52.216.108.197\n",
            "Connecting to s3.amazonaws.com (s3.amazonaws.com)|52.216.108.197|:443... connected.\n",
            "HTTP request sent, awaiting response... 200 OK\n",
            "Length: 311442766 (297M) [application/zip]\n",
            "Saving to: ‘flower_data.zip.1’\n",
            "\n",
            "flower_data.zip.1   100%[===================>] 297.01M  16.3MB/s    in 20s     \n",
            "\n",
            "2019-01-03 04:32:44 (15.2 MB/s) - ‘flower_data.zip.1’ saved [311442766/311442766]\n",
            "\n",
            "Archive:  flower_data.zip\n",
            "replace flower_data/valid/61/image_06296.jpg? [y]es, [n]o, [A]ll, [N]one, [r]ename: y\n",
            "  inflating: flower_data/valid/61/image_06296.jpg  \n",
            "replace flower_data/valid/61/image_06293.jpg? [y]es, [n]o, [A]ll, [N]one, [r]ename: a\n",
            "error:  invalid response [a]\n",
            "replace flower_data/valid/61/image_06293.jpg? [y]es, [n]o, [A]ll, [N]one, [r]ename: A\n",
            
     
    {
      "metadata": {
        "id": "UFUerU5QAVQ4",
        "colab_type": "code",
        "outputId": "ca12b084-d054-466d-a29a-3bba79e8ca90",
        "colab": {
          "base_uri": "https://localhost:8080/",
          "height": 187
        }
      },
      "cell_type": "code",
      "source": [
        "!pip install Pillow==4.0.0\n",
        "!pip install PIL\n",
        "!pip install image\n",
        "import PIL.Image"
      ],
      "execution_count": 0,
      "outputs": [
        {
          "output_type": "stream",
          "text": [
            "Requirement already satisfied: Pillow==4.0.0 in /usr/local/lib/python3.6/dist-packages (4.0.0)\n",
            "Requirement already satisfied: olefile in /usr/local/lib/python3.6/dist-packages (from Pillow==4.0.0) (0.46)\n",
            "Collecting PIL\n",
            "\u001b[31m  Could not find a version that satisfies the requirement PIL (from versions: )\u001b[0m\n",
            "\u001b[31mNo matching distribution found for PIL\u001b[0m\n",
            "Requirement already satisfied: image in /usr/local/lib/python3.6/dist-packages (1.5.27)\n",
            "Requirement already satisfied: pillow in /usr/local/lib/python3.6/dist-packages (from image) (4.0.0)\n",
            "Requirement already satisfied: django in /usr/local/lib/python3.6/dist-packages (from image) (2.1.4)\n",
            "Requirement already satisfied: olefile in /usr/local/lib/python3.6/dist-packages (from pillow->image) (0.46)\n",
            "Requirement already satisfied: pytz in /usr/local/lib/python3.6/dist-packages (from django->image) (2018.7)\n"
          ],
          "name": "stdout"
        }
      ]
    },
    {
      "metadata": {
        "id": "uRitvoA9k3T_",
        "colab_type": "code",
        "colab": {}
      },
      "cell_type": "code",
      "source": [
        "# Imports here\n",
        "from PIL import Image\n",
        "import matplotlib.pyplot as plt\n",
        "import numpy as np\n",
        "\n",
        "import torch\n",
        "from torchvision import transforms,models,datasets\n",
        "from torch import nn,optim\n",
        "import torch.nn.functional as F"
      ],
      "execution_count": 0,
      "outputs": []
    },
    {
      "metadata": {
        "id": "xzYxt0MPf6uF",
        "colab_type": "code",
        "outputId": "2ed33fe3-67b7-46eb-e4c8-bf36c2c16944",
        "colab": {
          "base_uri": "https://localhost:8080/",
          "height": 54
        }
      },
      "cell_type": "code",
      "source": [
        "\n",
        "# http://pytorch.org/\n",
        "from os.path import exists\n",
        "from wheel.pep425tags import get_abbr_impl, get_impl_ver, get_abi_tag\n",
        "platform = '{}{}-{}'.format(get_abbr_impl(), get_impl_ver(), get_abi_tag())\n",
        "cuda_output = !ldconfig -p|grep cudart.so|sed -e 's/.*\\.\\([0-9]*\\)\\.\\([0-9]*\\)$/cu\\1\\2/'\n",
        "accelerator = cuda_output[0] if exists('/dev/nvidia0') else 'cpu'\n",
        "\n",
        "!pip install -q http://download.pytorch.org/whl/{accelerator}/torch-0.4.1-{platform}-linux_x86_64.whl torchvision\n",
        "import torch"
      ],
      "execution_count": 0,
      "outputs": [
        {
          "output_type": "stream",
          "text": [
            "tcmalloc: large alloc 1073750016 bytes == 0x57b12000 @  0x7f104a0ad2a4 0x591a07 0x5b5d56 0x502e9a 0x506859 0x502209 0x502f3d 0x506859 0x504c28 0x502540 0x502f3d 0x506859 0x504c28 0x502540 0x502f3d 0x506859 0x504c28 0x502540 0x502f3d 0x507641 0x502209 0x502f3d 0x506859 0x504c28 0x502540 0x502f3d 0x507641 0x504c28 0x502540 0x502f3d 0x507641\n"
          ],
          "name": "stdout"
        }
      ]
    },
    {
      "metadata": {
        "id": "UPeeUso2qVa8",
        "colab_type": "code",
        "outputId": "306fe554-a023-411e-84a7-db24de299371",
        "colab": {
          "base_uri": "https://localhost:8080/",
          "height": 34
        }
      },
      "cell_type": "code",
      "source": [
        "train_on_gpu = torch.cuda.is_available()\n",
        "\n",
        "if not train_on_gpu:\n",
        "    print('CUDA is not available.  Training on CPU ...')\n",
        "else:\n",
        "    print('CUDA is available!  Training on GPU ...')"
      ],
      "execution_count": 0,
      "outputs": [
        {
          "output_type": "stream",
          "text": [
            "CUDA is available!  Training on GPU ...\n"
          ],
          "name": "stdout"
        }
      ]
    },
    {
      "metadata": {
        "id": "9bhE9_eMk3UG",
        "colab_type": "text"
      },
      "cell_type": "markdown",
      "source": [
        "## Load the data\n",
        "\n",
        "Here you'll use `torchvision` to load the data ([documentation](http://pytorch.org/docs/0.3.0/torchvision/index.html)). You can [download the data here](https://s3.amazonaws.com/content.udacity-data.com/courses/nd188/flower_data.zip). The dataset is split into two parts, training and validation. For the training, you'll want to apply transformations such as random scaling, cropping, and flipping. This will help the network generalize leading to better performance. If you use a pre-trained network, you'll also need to make sure the input data is resized to 224x224 pixels as required by the networks.\n",
        "\n",
        "The validation set is used to measure the model's performance on data it hasn't seen yet. For this you don't want any scaling or rotation transformations, but you'll need to resize then crop the images to the appropriate size.\n",
        "\n",
        "The pre-trained networks available from `torchvision` were trained on the ImageNet dataset where each color channel was normalized separately. For both sets you'll need to normalize the means and standard deviations of the images to what the network expects. For the means, it's `[0.485, 0.456, 0.406]` and for the standard deviations `[0.229, 0.224, 0.225]`, calculated from the ImageNet images.  These values will shift each color channel to be centered at 0 and range from -1 to 1."
      ]
    },
    {
      "metadata": {
        "id": "TGsXn4vfk3UH",
        "colab_type": "code",
        "colab": {}
      },
      "cell_type": "code",
      "source": [
        "data_dir = 'flower_data'\n",
        "train_dir = data_dir + '/train'\n",
        "valid_dir = data_dir + '/valid'"
      ],
      "execution_count": 0,
      "outputs": []
    },
    {
      "metadata": {
        "id": "4S3G9pzsk3UM",
        "colab_type": "code",
        "colab": {}
      },
      "cell_type": "code",
      "source": [
        "# TODO: Define your transforms for the training and validation sets\n",
        "train_transforms = transforms.Compose([\n",
        "                                      transforms.Resize(255),\n",
        "                                     #transforms.RandomRotation(30),\n",
        "                                      #transforms.RandomResizedCrop(224),\n",
        "                                       #transforms.RandomHorizontalFlip(),\n",
        "                                        transforms.CenterCrop(224),\n",
        "                                    transforms.ToTensor(),\n",
        "                                    transforms.Normalize([0.485, 0.456, 0.406], [0.229, 0.224, 0.225]),\n",
        "                                    \n",
        "                                     ])\n",
        "\n",
        "test_transforms = transforms.Compose([transforms.Resize(255),\n",
        "                                      transforms.CenterCrop(224),\n",
        "                                      transforms.ToTensor(),\n",
        "                                     transforms.Normalize([0.485, 0.456, 0.406], [0.229, 0.224, 0.225])\n",
        "                                     ])\n",
        "\n",
        "\n",
        "\n",
        "# TODO: Load the datasets with ImageFolder\n",
        "train_data = datasets.ImageFolder(train_dir,transform=train_transforms)\n",
        "test_data = datasets.ImageFolder(valid_dir,transform=test_transforms)\n",
        "\n",
        "\n",
        "# TODO: Using the image datasets and the trainforms, define the dataloaders\n",
        "trainloader = torch.utils.data.DataLoader(train_data,batch_size=32,shuffle=True)\n",
        "testloader = torch.utils.data.DataLoader(test_data,batch_size=32)"
      ],
      "execution_count": 0,
      "outputs": []
    },
    {
      "metadata": {
        "id": "azyKmihzk3UP",
        "colab_type": "raw"
      },
      "cell_type": "markdown",
      "source": [
        "# change this to the trainloader or testloader \n",
        "import helper\n",
        "data_iter = iter(testloader)\n",
        "\n",
        "images, labels = next(data_iter)\n",
        "fig, axes = plt.subplots(figsize=(10,4), ncols=4)\n",
        "print(images.size())\n",
        "for ii in range(4):\n",
        "    ax = axes[ii]\n",
        "    helper.imshow(images[ii], ax=ax, normalize=False)"
      ]
    },
    {
      "metadata": {
        "id": "C3EVbw5Pk3UQ",
        "colab_type": "text"
      },
      "cell_type": "markdown",
      "source": [
        "### Label mapping\n",
        "\n",
        "You'll also need to load in a mapping from category label to category name. You can find this in the file `cat_to_name.json`. It's a JSON object which you can read in with the [`json` module](https://docs.python.org/2/library/json.html). This will give you a dictionary mapping the integer encoded categories to the actual names of the flowers."
      ]
    },
    {
      "metadata": {
        "id": "-RWx4rLxk3UR",
        "colab_type": "code",
        "colab": {}
      },
      "cell_type": "code",
      "source": [
        "import json\n",
        "\n",
        "with open('cat_to_name.json', 'r') as f:\n",
        "    cat_to_name = json.load(f)"
      ],
      "execution_count": 0,
      "outputs": []
    },
    {
      "metadata": {
        "id": "00gvf8Agk3UW",
        "colab_type": "text"
      },
      "cell_type": "markdown",
      "source": [
        "# Building and training the classifier\n",
        "\n",
        "Now that the data is ready, it's time to build and train the classifier. As usual, you should use one of the pretrained models from `torchvision.models` to get the image features. Build and train a new feed-forward classifier using those features.\n",
        "\n",
        "We're going to leave this part up to you. If you want to talk through it with someone, chat with your fellow students! You can also ask questions on the forums or join the instructors in office hours.\n",
        "\n",
        "Refer to [the rubric](https://review.udacity.com/#!/rubrics/1663/view) for guidance on successfully completing this section. Things you'll need to do:\n",
        "\n",
        "* Load a [pre-trained network](http://pytorch.org/docs/master/torchvision/models.html) (If you need a starting point, the VGG networks work great and are straightforward to use)\n",
        "* Define a new, untrained feed-forward network as a classifier, using ReLU activations and dropout\n",
        "* Train the classifier layers using backpropagation using the pre-trained network to get the features\n",
        "* Track the loss and accuracy on the validation set to determine the best hyperparameters\n",
        "\n",
        "We've left a cell open for you below, but use as many as you need. Our advice is to break the problem up into smaller parts you can run separately. Check that each part is doing what you expect, then move on to the next. You'll likely find that as you work through each part, you'll need to go back and modify your previous code. This is totally normal!\n",
        "\n",
        "When training make sure you're updating only the weights of the feed-forward network. You should be able to get the validation accuracy above 70% if you build everything right. Make sure to try different hyperparameters (learning rate, units in the classifier, epochs, etc) to find the best model. Save those hyperparameters to use as default values in the next part of the project."
      ]
    },
    {
      "metadata": {
        "id": "1MQIYn2Fk3UZ",
        "colab_type": "code",
        "colab": {}
      },
      "cell_type": "code",
      "source": [
        "model = models.resnet152(pretrained=True)\n",
        "for param in model.parameters():\n",
        "    param.requires_grad_(False)\n",
        "\n",
        "#print(model)"
      ],
      "execution_count": 0,
      "outputs": []
    },
    {
      "metadata": {
        "id": "hBzvpW4xk3Ud",
        "colab_type": "code",
        "colab": {}
      },
      "cell_type": "code",
      "source": [
        "device = torch.device('cuda' if torch.cuda.is_available() else 'cpu')"
      ],
      "execution_count": 0,
      "outputs": []
    },
    {
      "metadata": {
        "id": "snYN_p39k3Uh",
        "colab_type": "code",
        "outputId": "c88e71a9-ec18-4abf-bd12-e146bf663885",
        "colab": {
          "base_uri": "https://localhost:8080/",
          "height": 8296
        }
      },
      "cell_type": "code",
      "source": [
        "model.fc = nn.Sequential(nn.Linear(2048,1024),\n",
        "                               nn.ReLU(), \n",
        "                                nn.Linear(1024,102),\n",
        "                                nn.LogSoftmax(dim=1))\n",
        "\n",
        "\n",
        "model.to(device)"
      ],
      "execution_count": 0,
      "outputs": [
        {
          "output_type": "execute_result",
          "data": {
            "text/plain": [
              "ResNet(\n",
              "  (conv1): Conv2d(3, 64, kernel_size=(7, 7), stride=(2, 2), padding=(3, 3), bias=False)\n",
              "  (bn1): BatchNorm2d(64, eps=1e-05, momentum=0.1, affine=True, track_running_stats=True)\n",
              "  (relu): ReLU(inplace)\n",
              "  (maxpool): MaxPool2d(kernel_size=3, stride=2, padding=1, dilation=1, ceil_mode=False)\n",
              "  (layer1): Sequential(\n",
              "    (0): Bottleneck(\n",
              "      (conv1): Conv2d(64, 64, kernel_size=(1, 1), stride=(1, 1), bias=False)\n",
              "      (bn1): BatchNorm2d(64, eps=1e-05, momentum=0.1, affine=True, track_running_stats=True)\n",
              "      (conv2): Conv2d(64, 64, kernel_size=(3, 3), stride=(1, 1), padding=(1, 1), bias=False)\n",
              "      (bn2): BatchNorm2d(64, eps=1e-05, momentum=0.1, affine=True, track_running_stats=True)\n",
              "      (conv3): Conv2d(64, 256, kernel_size=(1, 1), stride=(1, 1), bias=False)\n",
              "      (bn3): BatchNorm2d(256, eps=1e-05, momentum=0.1, affine=True, track_running_stats=True)\n",
              "      (relu): ReLU(inplace)\n",
              "      (downsample): Sequential(\n",
              "        (0): Conv2d(64, 256, kernel_size=(1, 1), stride=(1, 1), bias=False)\n",
              "        (1): BatchNorm2d(256, eps=1e-05, momentum=0.1, affine=True, track_running_stats=True)\n",
              "      )\n",
              "    )\n",
              "    (1): Bottleneck(\n",
              "      (conv1): Conv2d(256, 64, kernel_size=(1, 1), stride=(1, 1), bias=False)\n",
              "      (bn1): BatchNorm2d(64, eps=1e-05, momentum=0.1, affine=True, track_running_stats=True)\n",
              "      (conv2): Conv2d(64, 64, kernel_size=(3, 3), stride=(1, 1), padding=(1, 1), bias=False)\n",
              "      (bn2): BatchNorm2d(64, eps=1e-05, momentum=0.1, affine=True, track_running_stats=True)\n",
              "      (conv3): Conv2d(64, 256, kernel_size=(1, 1), stride=(1, 1), bias=False)\n",
              "      (bn3): BatchNorm2d(256, eps=1e-05, momentum=0.1, affine=True, track_running_stats=True)\n",
              "      (relu): ReLU(inplace)\n",
              "    )\n",
              "    (2): Bottleneck(\n",
              "      (conv1): Conv2d(256, 64, kernel_size=(1, 1), stride=(1, 1), bias=False)\n",
              "      (bn1): BatchNorm2d(64, eps=1e-05, momentum=0.1, affine=True, track_running_stats=True)\n",
              "      (conv2): Conv2d(64, 64, kernel_size=(3, 3), stride=(1, 1), padding=(1, 1), bias=False)\n",
              "      (bn2): BatchNorm2d(64, eps=1e-05, momentum=0.1, affine=True, track_running_stats=True)\n",
              "      (conv3): Conv2d(64, 256, kernel_size=(1, 1), stride=(1, 1), bias=False)\n",
              "      (bn3): BatchNorm2d(256, eps=1e-05, momentum=0.1, affine=True, track_running_stats=True)\n",
              "      (relu): ReLU(inplace)\n",
              "    )\n",
              "  )\n",
              "  (layer2): Sequential(\n",
              "    (0): Bottleneck(\n",
              "      (conv1): Conv2d(256, 128, kernel_size=(1, 1), stride=(1, 1), bias=False)\n",
              "      (bn1): BatchNorm2d(128, eps=1e-05, momentum=0.1, affine=True, track_running_stats=True)\n",
              "      (conv2): Conv2d(128, 128, kernel_size=(3, 3), stride=(2, 2), padding=(1, 1), bias=False)\n",
              "      (bn2): BatchNorm2d(128, eps=1e-05, momentum=0.1, affine=True, track_running_stats=True)\n",
              "      (conv3): Conv2d(128, 512, kernel_size=(1, 1), stride=(1, 1), bias=False)\n",
              "      (bn3): BatchNorm2d(512, eps=1e-05, momentum=0.1, affine=True, track_running_stats=True)\n",
              "      (relu): ReLU(inplace)\n",
              "      (downsample): Sequential(\n",
              "        (0): Conv2d(256, 512, kernel_size=(1, 1), stride=(2, 2), bias=False)\n",
              "        (1): BatchNorm2d(512, eps=1e-05, momentum=0.1, affine=True, track_running_stats=True)\n",
              "      )\n",
              "    )\n",
              "    (1): Bottleneck(\n",
              "      (conv1): Conv2d(512, 128, kernel_size=(1, 1), stride=(1, 1), bias=False)\n",
              "      (bn1): BatchNorm2d(128, eps=1e-05, momentum=0.1, affine=True, track_running_stats=True)\n",
              "      (conv2): Conv2d(128, 128, kernel_size=(3, 3), stride=(1, 1), padding=(1, 1), bias=False)\n",
              "      (bn2): BatchNorm2d(128, eps=1e-05, momentum=0.1, affine=True, track_running_stats=True)\n",
              "      (conv3): Conv2d(128, 512, kernel_size=(1, 1), stride=(1, 1), bias=False)\n",
              "      (bn3): BatchNorm2d(512, eps=1e-05, momentum=0.1, affine=True, track_running_stats=True)\n",
              "      (relu): ReLU(inplace)\n",
              "    )\n",
              "    (2): Bottleneck(\n",
              "      (conv1): Conv2d(512, 128, kernel_size=(1, 1), stride=(1, 1), bias=False)\n",
              "      (bn1): BatchNorm2d(128, eps=1e-05, momentum=0.1, affine=True, track_running_stats=True)\n",
              "      (conv2): Conv2d(128, 128, kernel_size=(3, 3), stride=(1, 1), padding=(1, 1), bias=False)\n",
              "      (bn2): BatchNorm2d(128, eps=1e-05, momentum=0.1, affine=True, track_running_stats=True)\n",
              "      (conv3): Conv2d(128, 512, kernel_size=(1, 1), stride=(1, 1), bias=False)\n",
              "      (bn3): BatchNorm2d(512, eps=1e-05, momentum=0.1, affine=True, track_running_stats=True)\n",
              "      (relu): ReLU(inplace)\n",
              "    )\n",
              "    (3): Bottleneck(\n",
              "      (conv1): Conv2d(512, 128, kernel_size=(1, 1), stride=(1, 1), bias=False)\n",
              "      (bn1): BatchNorm2d(128, eps=1e-05, momentum=0.1, affine=True, track_running_stats=True)\n",
              "      (conv2): Conv2d(128, 128, kernel_size=(3, 3), stride=(1, 1), padding=(1, 1), bias=False)\n",
              "      (bn2): BatchNorm2d(128, eps=1e-05, momentum=0.1, affine=True, track_running_stats=True)\n",
              "      (conv3): Conv2d(128, 512, kernel_size=(1, 1), stride=(1, 1), bias=False)\n",
              "      (bn3): BatchNorm2d(512, eps=1e-05, momentum=0.1, affine=True, track_running_stats=True)\n",
              "      (relu): ReLU(inplace)\n",
              "    )\n",
              "    (4): Bottleneck(\n",
              "      (conv1): Conv2d(512, 128, kernel_size=(1, 1), stride=(1, 1), bias=False)\n",
              "      (bn1): BatchNorm2d(128, eps=1e-05, momentum=0.1, affine=True, track_running_stats=True)\n",
              "      (conv2): Conv2d(128, 128, kernel_size=(3, 3), stride=(1, 1), padding=(1, 1), bias=False)\n",
              "      (bn2): BatchNorm2d(128, eps=1e-05, momentum=0.1, affine=True, track_running_stats=True)\n",
              "      (conv3): Conv2d(128, 512, kernel_size=(1, 1), stride=(1, 1), bias=False)\n",
              "      (bn3): BatchNorm2d(512, eps=1e-05, momentum=0.1, affine=True, track_running_stats=True)\n",
              "      (relu): ReLU(inplace)\n",
              "    )\n",
              "    (5): Bottleneck(\n",
              "      (conv1): Conv2d(512, 128, kernel_size=(1, 1), stride=(1, 1), bias=False)\n",
              "      (bn1): BatchNorm2d(128, eps=1e-05, momentum=0.1, affine=True, track_running_stats=True)\n",
              "      (conv2): Conv2d(128, 128, kernel_size=(3, 3), stride=(1, 1), padding=(1, 1), bias=False)\n",
              "      (bn2): BatchNorm2d(128, eps=1e-05, momentum=0.1, affine=True, track_running_stats=True)\n",
              "      (conv3): Conv2d(128, 512, kernel_size=(1, 1), stride=(1, 1), bias=False)\n",
              "      (bn3): BatchNorm2d(512, eps=1e-05, momentum=0.1, affine=True, track_running_stats=True)\n",
              "      (relu): ReLU(inplace)\n",
              "    )\n",
              "    (6): Bottleneck(\n",
              "      (conv1): Conv2d(512, 128, kernel_size=(1, 1), stride=(1, 1), bias=False)\n",
              "      (bn1): BatchNorm2d(128, eps=1e-05, momentum=0.1, affine=True, track_running_stats=True)\n",
              "      (conv2): Conv2d(128, 128, kernel_size=(3, 3), stride=(1, 1), padding=(1, 1), bias=False)\n",
              "      (bn2): BatchNorm2d(128, eps=1e-05, momentum=0.1, affine=True, track_running_stats=True)\n",
              "      (conv3): Conv2d(128, 512, kernel_size=(1, 1), stride=(1, 1), bias=False)\n",
              "      (bn3): BatchNorm2d(512, eps=1e-05, momentum=0.1, affine=True, track_running_stats=True)\n",
              "      (relu): ReLU(inplace)\n",
              "    )\n",
              "    (7): Bottleneck(\n",
              "      (conv1): Conv2d(512, 128, kernel_size=(1, 1), stride=(1, 1), bias=False)\n",
              "      (bn1): BatchNorm2d(128, eps=1e-05, momentum=0.1, affine=True, track_running_stats=True)\n",
              "      (conv2): Conv2d(128, 128, kernel_size=(3, 3), stride=(1, 1), padding=(1, 1), bias=False)\n",
              "      (bn2): BatchNorm2d(128, eps=1e-05, momentum=0.1, affine=True, track_running_stats=True)\n",
              "      (conv3): Conv2d(128, 512, kernel_size=(1, 1), stride=(1, 1), bias=False)\n",
              "      (bn3): BatchNorm2d(512, eps=1e-05, momentum=0.1, affine=True, track_running_stats=True)\n",
              "      (relu): ReLU(inplace)\n",
              "    )\n",
              "  )\n",
              "  (layer3): Sequential(\n",
              "    (0): Bottleneck(\n",
              "      (conv1): Conv2d(512, 256, kernel_size=(1, 1), stride=(1, 1), bias=False)\n",
              "      (bn1): BatchNorm2d(256, eps=1e-05, momentum=0.1, affine=True, track_running_stats=True)\n",
              "      (conv2): Conv2d(256, 256, kernel_size=(3, 3), stride=(2, 2), padding=(1, 1), bias=False)\n",
              "      (bn2): BatchNorm2d(256, eps=1e-05, momentum=0.1, affine=True, track_running_stats=True)\n",
              "      (conv3): Conv2d(256, 1024, kernel_size=(1, 1), stride=(1, 1), bias=False)\n",
              "      (bn3): BatchNorm2d(1024, eps=1e-05, momentum=0.1, affine=True, track_running_stats=True)\n",
              "      (relu): ReLU(inplace)\n",
              "      (downsample): Sequential(\n",
              "        (0): Conv2d(512, 1024, kernel_size=(1, 1), stride=(2, 2), bias=False)\n",
              "        (1): BatchNorm2d(1024, eps=1e-05, momentum=0.1, affine=True, track_running_stats=True)\n",
              "      )\n",
              "    )\n",
              "    (1): Bottleneck(\n",
              "      (conv1): Conv2d(1024, 256, kernel_size=(1, 1), stride=(1, 1), bias=False)\n",
              "      (bn1): BatchNorm2d(256, eps=1e-05, momentum=0.1, affine=True, track_running_stats=True)\n",
              "      (conv2): Conv2d(256, 256, kernel_size=(3, 3), stride=(1, 1), padding=(1, 1), bias=False)\n",
              "      (bn2): BatchNorm2d(256, eps=1e-05, momentum=0.1, affine=True, track_running_stats=True)\n",
              "      (conv3): Conv2d(256, 1024, kernel_size=(1, 1), stride=(1, 1), bias=False)\n",
              "      (bn3): BatchNorm2d(1024, eps=1e-05, momentum=0.1, affine=True, track_running_stats=True)\n",
              "      (relu): ReLU(inplace)\n",
              "    )\n",
              "    (2): Bottleneck(\n",
              "      (conv1): Conv2d(1024, 256, kernel_size=(1, 1), stride=(1, 1), bias=False)\n",
              "      (bn1): BatchNorm2d(256, eps=1e-05, momentum=0.1, affine=True, track_running_stats=True)\n",
              "      (conv2): Conv2d(256, 256, kernel_size=(3, 3), stride=(1, 1), padding=(1, 1), bias=False)\n",
              "      (bn2): BatchNorm2d(256, eps=1e-05, momentum=0.1, affine=True, track_running_stats=True)\n",
              "      (conv3): Conv2d(256, 1024, kernel_size=(1, 1), stride=(1, 1), bias=False)\n",
              "      (bn3): BatchNorm2d(1024, eps=1e-05, momentum=0.1, affine=True, track_running_stats=True)\n",
              "      (relu): ReLU(inplace)\n",
              "    )\n",
              "    (3): Bottleneck(\n",
              "      (conv1): Conv2d(1024, 256, kernel_size=(1, 1), stride=(1, 1), bias=False)\n",
              "      (bn1): BatchNorm2d(256, eps=1e-05, momentum=0.1, affine=True, track_running_stats=True)\n",
              "      (conv2): Conv2d(256, 256, kernel_size=(3, 3), stride=(1, 1), padding=(1, 1), bias=False)\n",
              "      (bn2): BatchNorm2d(256, eps=1e-05, momentum=0.1, affine=True, track_running_stats=True)\n",
              "      (conv3): Conv2d(256, 1024, kernel_size=(1, 1), stride=(1, 1), bias=False)\n",
              "      (bn3): BatchNorm2d(1024, eps=1e-05, momentum=0.1, affine=True, track_running_stats=True)\n",
              "      (relu): ReLU(inplace)\n",
              "    )\n",
              "    (4): Bottleneck(\n",
              "      (conv1): Conv2d(1024, 256, kernel_size=(1, 1), stride=(1, 1), bias=False)\n",
              "      (bn1): BatchNorm2d(256, eps=1e-05, momentum=0.1, affine=True, track_running_stats=True)\n",
              "      (conv2): Conv2d(256, 256, kernel_size=(3, 3), stride=(1, 1), padding=(1, 1), bias=False)\n",
              "      (bn2): BatchNorm2d(256, eps=1e-05, momentum=0.1, affine=True, track_running_stats=True)\n",
              "      (conv3): Conv2d(256, 1024, kernel_size=(1, 1), stride=(1, 1), bias=False)\n",
              "      (bn3): BatchNorm2d(1024, eps=1e-05, momentum=0.1, affine=True, track_running_stats=True)\n",
              "      (relu): ReLU(inplace)\n",
              "    )\n",
              "    (5): Bottleneck(\n",
              "      (conv1): Conv2d(1024, 256, kernel_size=(1, 1), stride=(1, 1), bias=False)\n",
              "      (bn1): BatchNorm2d(256, eps=1e-05, momentum=0.1, affine=True, track_running_stats=True)\n",
              "      (conv2): Conv2d(256, 256, kernel_size=(3, 3), stride=(1, 1), padding=(1, 1), bias=False)\n",
              "      (bn2): BatchNorm2d(256, eps=1e-05, momentum=0.1, affine=True, track_running_stats=True)\n",
              "      (conv3): Conv2d(256, 1024, kernel_size=(1, 1), stride=(1, 1), bias=False)\n",
              "      (bn3): BatchNorm2d(1024, eps=1e-05, momentum=0.1, affine=True, track_running_stats=True)\n",
              "      (relu): ReLU(inplace)\n",
              "    )\n",
              "    (6): Bottleneck(\n",
              "      (conv1): Conv2d(1024, 256, kernel_size=(1, 1), stride=(1, 1), bias=False)\n",
              "      (bn1): BatchNorm2d(256, eps=1e-05, momentum=0.1, affine=True, track_running_stats=True)\n",
              "      (conv2): Conv2d(256, 256, kernel_size=(3, 3), stride=(1, 1), padding=(1, 1), bias=False)\n",
              "      (bn2): BatchNorm2d(256, eps=1e-05, momentum=0.1, affine=True, track_running_stats=True)\n",
              "      (conv3): Conv2d(256, 1024, kernel_size=(1, 1), stride=(1, 1), bias=False)\n",
              "      (bn3): BatchNorm2d(1024, eps=1e-05, momentum=0.1, affine=True, track_running_stats=True)\n",
              "      (relu): ReLU(inplace)\n",
              "    )\n",
              "    (7): Bottleneck(\n",
              "      (conv1): Conv2d(1024, 256, kernel_size=(1, 1), stride=(1, 1), bias=False)\n",
              "      (bn1): BatchNorm2d(256, eps=1e-05, momentum=0.1, affine=True, track_running_stats=True)\n",
              "      (conv2): Conv2d(256, 256, kernel_size=(3, 3), stride=(1, 1), padding=(1, 1), bias=False)\n",
              "      (bn2): BatchNorm2d(256, eps=1e-05, momentum=0.1, affine=True, track_running_stats=True)\n",
              "      (conv3): Conv2d(256, 1024, kernel_size=(1, 1), stride=(1, 1), bias=False)\n",
              "      (bn3): BatchNorm2d(1024, eps=1e-05, momentum=0.1, affine=True, track_running_stats=True)\n",
              "      (relu): ReLU(inplace)\n",
              "    )\n",
              "    (8): Bottleneck(\n",
              "      (conv1): Conv2d(1024, 256, kernel_size=(1, 1), stride=(1, 1), bias=False)\n",
              "      (bn1): BatchNorm2d(256, eps=1e-05, momentum=0.1, affine=True, track_running_stats=True)\n",
              "      (conv2): Conv2d(256, 256, kernel_size=(3, 3), stride=(1, 1), padding=(1, 1), bias=False)\n",
              "      (bn2): BatchNorm2d(256, eps=1e-05, momentum=0.1, affine=True, track_running_stats=True)\n",
              "      (conv3): Conv2d(256, 1024, kernel_size=(1, 1), stride=(1, 1), bias=False)\n",
              "      (bn3): BatchNorm2d(1024, eps=1e-05, momentum=0.1, affine=True, track_running_stats=True)\n",
              "      (relu): ReLU(inplace)\n",
              "    )\n",
              "    (9): Bottleneck(\n",
              "      (conv1): Conv2d(1024, 256, kernel_size=(1, 1), stride=(1, 1), bias=False)\n",
              "      (bn1): BatchNorm2d(256, eps=1e-05, momentum=0.1, affine=True, track_running_stats=True)\n",
              "      (conv2): Conv2d(256, 256, kernel_size=(3, 3), stride=(1, 1), padding=(1, 1), bias=False)\n",
              "      (bn2): BatchNorm2d(256, eps=1e-05, momentum=0.1, affine=True, track_running_stats=True)\n",
              "      (conv3): Conv2d(256, 1024, kernel_size=(1, 1), stride=(1, 1), bias=False)\n",
              "      (bn3): BatchNorm2d(1024, eps=1e-05, momentum=0.1, affine=True, track_running_stats=True)\n",
              "      (relu): ReLU(inplace)\n",
              "    )\n",
              "    (10): Bottleneck(\n",
              "      (conv1): Conv2d(1024, 256, kernel_size=(1, 1), stride=(1, 1), bias=False)\n",
              "      (bn1): BatchNorm2d(256, eps=1e-05, momentum=0.1, affine=True, track_running_stats=True)\n",
              "      (conv2): Conv2d(256, 256, kernel_size=(3, 3), stride=(1, 1), padding=(1, 1), bias=False)\n",
              "      (bn2): BatchNorm2d(256, eps=1e-05, momentum=0.1, affine=True, track_running_stats=True)\n",
              "      (conv3): Conv2d(256, 1024, kernel_size=(1, 1), stride=(1, 1), bias=False)\n",
              "      (bn3): BatchNorm2d(1024, eps=1e-05, momentum=0.1, affine=True, track_running_stats=True)\n",
              "      (relu): ReLU(inplace)\n",
              "    )\n",
              "    (11): Bottleneck(\n",
              "      (conv1): Conv2d(1024, 256, kernel_size=(1, 1), stride=(1, 1), bias=False)\n",
              "      (bn1): BatchNorm2d(256, eps=1e-05, momentum=0.1, affine=True, track_running_stats=True)\n",
              "      (conv2): Conv2d(256, 256, kernel_size=(3, 3), stride=(1, 1), padding=(1, 1), bias=False)\n",
              "      (bn2): BatchNorm2d(256, eps=1e-05, momentum=0.1, affine=True, track_running_stats=True)\n",
              "      (conv3): Conv2d(256, 1024, kernel_size=(1, 1), stride=(1, 1), bias=False)\n",
              "      (bn3): BatchNorm2d(1024, eps=1e-05, momentum=0.1, affine=True, track_running_stats=True)\n",
              "      (relu): ReLU(inplace)\n",
              "    )\n",
              "    (12): Bottleneck(\n",
              "      (conv1): Conv2d(1024, 256, kernel_size=(1, 1), stride=(1, 1), bias=False)\n",
              "      (bn1): BatchNorm2d(256, eps=1e-05, momentum=0.1, affine=True, track_running_stats=True)\n",
              "      (conv2): Conv2d(256, 256, kernel_size=(3, 3), stride=(1, 1), padding=(1, 1), bias=False)\n",
              "      (bn2): BatchNorm2d(256, eps=1e-05, momentum=0.1, affine=True, track_running_stats=True)\n",
              "      (conv3): Conv2d(256, 1024, kernel_size=(1, 1), stride=(1, 1), bias=False)\n",
              "      (bn3): BatchNorm2d(1024, eps=1e-05, momentum=0.1, affine=True, track_running_stats=True)\n",
              "      (relu): ReLU(inplace)\n",
              "    )\n",
              "    (13): Bottleneck(\n",
              "      (conv1): Conv2d(1024, 256, kernel_size=(1, 1), stride=(1, 1), bias=False)\n",
              "      (bn1): BatchNorm2d(256, eps=1e-05, momentum=0.1, affine=True, track_running_stats=True)\n",
              "      (conv2): Conv2d(256, 256, kernel_size=(3, 3), stride=(1, 1), padding=(1, 1), bias=False)\n",
              "      (bn2): BatchNorm2d(256, eps=1e-05, momentum=0.1, affine=True, track_running_stats=True)\n",
              "      (conv3): Conv2d(256, 1024, kernel_size=(1, 1), stride=(1, 1), bias=False)\n",
              "      (bn3): BatchNorm2d(1024, eps=1e-05, momentum=0.1, affine=True, track_running_stats=True)\n",
              "      (relu): ReLU(inplace)\n",
              "    )\n",
              "    (14): Bottleneck(\n",
              "      (conv1): Conv2d(1024, 256, kernel_size=(1, 1), stride=(1, 1), bias=False)\n",
              "      (bn1): BatchNorm2d(256, eps=1e-05, momentum=0.1, affine=True, track_running_stats=True)\n",
              "      (conv2): Conv2d(256, 256, kernel_size=(3, 3), stride=(1, 1), padding=(1, 1), bias=False)\n",
              "      (bn2): BatchNorm2d(256, eps=1e-05, momentum=0.1, affine=True, track_running_stats=True)\n",
              "      (conv3): Conv2d(256, 1024, kernel_size=(1, 1), stride=(1, 1), bias=False)\n",
              "      (bn3): BatchNorm2d(1024, eps=1e-05, momentum=0.1, affine=True, track_running_stats=True)\n",
              "      (relu): ReLU(inplace)\n",
              "    )\n",
              "    (15): Bottleneck(\n",
              "      (conv1): Conv2d(1024, 256, kernel_size=(1, 1), stride=(1, 1), bias=False)\n",
              "      (bn1): BatchNorm2d(256, eps=1e-05, momentum=0.1, affine=True, track_running_stats=True)\n",
              "      (conv2): Conv2d(256, 256, kernel_size=(3, 3), stride=(1, 1), padding=(1, 1), bias=False)\n",
              "      (bn2): BatchNorm2d(256, eps=1e-05, momentum=0.1, affine=True, track_running_stats=True)\n",
              "      (conv3): Conv2d(256, 1024, kernel_size=(1, 1), stride=(1, 1), bias=False)\n",
              "      (bn3): BatchNorm2d(1024, eps=1e-05, momentum=0.1, affine=True, track_running_stats=True)\n",
              "      (relu): ReLU(inplace)\n",
              "    )\n",
              "    (16): Bottleneck(\n",
              "      (conv1): Conv2d(1024, 256, kernel_size=(1, 1), stride=(1, 1), bias=False)\n",
              "      (bn1): BatchNorm2d(256, eps=1e-05, momentum=0.1, affine=True, track_running_stats=True)\n",
              "      (conv2): Conv2d(256, 256, kernel_size=(3, 3), stride=(1, 1), padding=(1, 1), bias=False)\n",
              "      (bn2): BatchNorm2d(256, eps=1e-05, momentum=0.1, affine=True, track_running_stats=True)\n",
              "      (conv3): Conv2d(256, 1024, kernel_size=(1, 1), stride=(1, 1), bias=False)\n",
              "      (bn3): BatchNorm2d(1024, eps=1e-05, momentum=0.1, affine=True, track_running_stats=True)\n",
              "      (relu): ReLU(inplace)\n",
              "    )\n",
              "    (17): Bottleneck(\n",
              "      (conv1): Conv2d(1024, 256, kernel_size=(1, 1), stride=(1, 1), bias=False)\n",
              "      (bn1): BatchNorm2d(256, eps=1e-05, momentum=0.1, affine=True, track_running_stats=True)\n",
              "      (conv2): Conv2d(256, 256, kernel_size=(3, 3), stride=(1, 1), padding=(1, 1), bias=False)\n",
              "      (bn2): BatchNorm2d(256, eps=1e-05, momentum=0.1, affine=True, track_running_stats=True)\n",
              "      (conv3): Conv2d(256, 1024, kernel_size=(1, 1), stride=(1, 1), bias=False)\n",
              "      (bn3): BatchNorm2d(1024, eps=1e-05, momentum=0.1, affine=True, track_running_stats=True)\n",
              "      (relu): ReLU(inplace)\n",
              "    )\n",
              "    (18): Bottleneck(\n",
              "      (conv1): Conv2d(1024, 256, kernel_size=(1, 1), stride=(1, 1), bias=False)\n",
              "      (bn1): BatchNorm2d(256, eps=1e-05, momentum=0.1, affine=True, track_running_stats=True)\n",
              "      (conv2): Conv2d(256, 256, kernel_size=(3, 3), stride=(1, 1), padding=(1, 1), bias=False)\n",
              "      (bn2): BatchNorm2d(256, eps=1e-05, momentum=0.1, affine=True, track_running_stats=True)\n",
              "      (conv3): Conv2d(256, 1024, kernel_size=(1, 1), stride=(1, 1), bias=False)\n",
              "      (bn3): BatchNorm2d(1024, eps=1e-05, momentum=0.1, affine=True, track_running_stats=True)\n",
              "      (relu): ReLU(inplace)\n",
              "    )\n",
              "    (19): Bottleneck(\n",
              "      (conv1): Conv2d(1024, 256, kernel_size=(1, 1), stride=(1, 1), bias=False)\n",
              "      (bn1): BatchNorm2d(256, eps=1e-05, momentum=0.1, affine=True, track_running_stats=True)\n",
              "      (conv2): Conv2d(256, 256, kernel_size=(3, 3), stride=(1, 1), padding=(1, 1), bias=False)\n",
              "      (bn2): BatchNorm2d(256, eps=1e-05, momentum=0.1, affine=True, track_running_stats=True)\n",
              "      (conv3): Conv2d(256, 1024, kernel_size=(1, 1), stride=(1, 1), bias=False)\n",
              "      (bn3): BatchNorm2d(1024, eps=1e-05, momentum=0.1, affine=True, track_running_stats=True)\n",
              "      (relu): ReLU(inplace)\n",
              "    )\n",
              "    (20): Bottleneck(\n",
              "      (conv1): Conv2d(1024, 256, kernel_size=(1, 1), stride=(1, 1), bias=False)\n",
              "      (bn1): BatchNorm2d(256, eps=1e-05, momentum=0.1, affine=True, track_running_stats=True)\n",
              "      (conv2): Conv2d(256, 256, kernel_size=(3, 3), stride=(1, 1), padding=(1, 1), bias=False)\n",
              "      (bn2): BatchNorm2d(256, eps=1e-05, momentum=0.1, affine=True, track_running_stats=True)\n",
              "      (conv3): Conv2d(256, 1024, kernel_size=(1, 1), stride=(1, 1), bias=False)\n",
              "      (bn3): BatchNorm2d(1024, eps=1e-05, momentum=0.1, affine=True, track_running_stats=True)\n",
              "      (relu): ReLU(inplace)\n",
              "    )\n",
              "    (21): Bottleneck(\n",
              "      (conv1): Conv2d(1024, 256, kernel_size=(1, 1), stride=(1, 1), bias=False)\n",
              "      (bn1): BatchNorm2d(256, eps=1e-05, momentum=0.1, affine=True, track_running_stats=True)\n",
              "      (conv2): Conv2d(256, 256, kernel_size=(3, 3), stride=(1, 1), padding=(1, 1), bias=False)\n",
              "      (bn2): BatchNorm2d(256, eps=1e-05, momentum=0.1, affine=True, track_running_stats=True)\n",
              "      (conv3): Conv2d(256, 1024, kernel_size=(1, 1), stride=(1, 1), bias=False)\n",
              "      (bn3): BatchNorm2d(1024, eps=1e-05, momentum=0.1, affine=True, track_running_stats=True)\n",
              "      (relu): ReLU(inplace)\n",
              "    )\n",
              "    (22): Bottleneck(\n",
              "      (conv1): Conv2d(1024, 256, kernel_size=(1, 1), stride=(1, 1), bias=False)\n",
              "      (bn1): BatchNorm2d(256, eps=1e-05, momentum=0.1, affine=True, track_running_stats=True)\n",
              "      (conv2): Conv2d(256, 256, kernel_size=(3, 3), stride=(1, 1), padding=(1, 1), bias=False)\n",
              "      (bn2): BatchNorm2d(256, eps=1e-05, momentum=0.1, affine=True, track_running_stats=True)\n",
              "      (conv3): Conv2d(256, 1024, kernel_size=(1, 1), stride=(1, 1), bias=False)\n",
              "      (bn3): BatchNorm2d(1024, eps=1e-05, momentum=0.1, affine=True, track_running_stats=True)\n",
              "      (relu): ReLU(inplace)\n",
              "    )\n",
              "    (23): Bottleneck(\n",
              "      (conv1): Conv2d(1024, 256, kernel_size=(1, 1), stride=(1, 1), bias=False)\n",
              "      (bn1): BatchNorm2d(256, eps=1e-05, momentum=0.1, affine=True, track_running_stats=True)\n",
              "      (conv2): Conv2d(256, 256, kernel_size=(3, 3), stride=(1, 1), padding=(1, 1), bias=False)\n",
              "      (bn2): BatchNorm2d(256, eps=1e-05, momentum=0.1, affine=True, track_running_stats=True)\n",
              "      (conv3): Conv2d(256, 1024, kernel_size=(1, 1), stride=(1, 1), bias=False)\n",
              "      (bn3): BatchNorm2d(1024, eps=1e-05, momentum=0.1, affine=True, track_running_stats=True)\n",
              "      (relu): ReLU(inplace)\n",
              "    )\n",
              "    (24): Bottleneck(\n",
              "      (conv1): Conv2d(1024, 256, kernel_size=(1, 1), stride=(1, 1), bias=False)\n",
              "      (bn1): BatchNorm2d(256, eps=1e-05, momentum=0.1, affine=True, track_running_stats=True)\n",
              "      (conv2): Conv2d(256, 256, kernel_size=(3, 3), stride=(1, 1), padding=(1, 1), bias=False)\n",
              "      (bn2): BatchNorm2d(256, eps=1e-05, momentum=0.1, affine=True, track_running_stats=True)\n",
              "      (conv3): Conv2d(256, 1024, kernel_size=(1, 1), stride=(1, 1), bias=False)\n",
              "      (bn3): BatchNorm2d(1024, eps=1e-05, momentum=0.1, affine=True, track_running_stats=True)\n",
              "      (relu): ReLU(inplace)\n",
              "    )\n",
              "    (25): Bottleneck(\n",
              "      (conv1): Conv2d(1024, 256, kernel_size=(1, 1), stride=(1, 1), bias=False)\n",
              "      (bn1): BatchNorm2d(256, eps=1e-05, momentum=0.1, affine=True, track_running_stats=True)\n",
              "      (conv2): Conv2d(256, 256, kernel_size=(3, 3), stride=(1, 1), padding=(1, 1), bias=False)\n",
              "      (bn2): BatchNorm2d(256, eps=1e-05, momentum=0.1, affine=True, track_running_stats=True)\n",
              "      (conv3): Conv2d(256, 1024, kernel_size=(1, 1), stride=(1, 1), bias=False)\n",
              "      (bn3): BatchNorm2d(1024, eps=1e-05, momentum=0.1, affine=True, track_running_stats=True)\n",
              "      (relu): ReLU(inplace)\n",
              "    )\n",
              "    (26): Bottleneck(\n",
              "      (conv1): Conv2d(1024, 256, kernel_size=(1, 1), stride=(1, 1), bias=False)\n",
              "      (bn1): BatchNorm2d(256, eps=1e-05, momentum=0.1, affine=True, track_running_stats=True)\n",
              "      (conv2): Conv2d(256, 256, kernel_size=(3, 3), stride=(1, 1), padding=(1, 1), bias=False)\n",
              "      (bn2): BatchNorm2d(256, eps=1e-05, momentum=0.1, affine=True, track_running_stats=True)\n",
              "      (conv3): Conv2d(256, 1024, kernel_size=(1, 1), stride=(1, 1), bias=False)\n",
              "      (bn3): BatchNorm2d(1024, eps=1e-05, momentum=0.1, affine=True, track_running_stats=True)\n",
              "      (relu): ReLU(inplace)\n",
              "    )\n",
              "    (27): Bottleneck(\n",
              "      (conv1): Conv2d(1024, 256, kernel_size=(1, 1), stride=(1, 1), bias=False)\n",
              "      (bn1): BatchNorm2d(256, eps=1e-05, momentum=0.1, affine=True, track_running_stats=True)\n",
              "      (conv2): Conv2d(256, 256, kernel_size=(3, 3), stride=(1, 1), padding=(1, 1), bias=False)\n",
              "      (bn2): BatchNorm2d(256, eps=1e-05, momentum=0.1, affine=True, track_running_stats=True)\n",
              "      (conv3): Conv2d(256, 1024, kernel_size=(1, 1), stride=(1, 1), bias=False)\n",
              "      (bn3): BatchNorm2d(1024, eps=1e-05, momentum=0.1, affine=True, track_running_stats=True)\n",
              "      (relu): ReLU(inplace)\n",
              "    )\n",
              "    (28): Bottleneck(\n",
              "      (conv1): Conv2d(1024, 256, kernel_size=(1, 1), stride=(1, 1), bias=False)\n",
              "      (bn1): BatchNorm2d(256, eps=1e-05, momentum=0.1, affine=True, track_running_stats=True)\n",
              "      (conv2): Conv2d(256, 256, kernel_size=(3, 3), stride=(1, 1), padding=(1, 1), bias=False)\n",
              "      (bn2): BatchNorm2d(256, eps=1e-05, momentum=0.1, affine=True, track_running_stats=True)\n",
              "      (conv3): Conv2d(256, 1024, kernel_size=(1, 1), stride=(1, 1), bias=False)\n",
              "      (bn3): BatchNorm2d(1024, eps=1e-05, momentum=0.1, affine=True, track_running_stats=True)\n",
              "      (relu): ReLU(inplace)\n",
              "    )\n",
              "    (29): Bottleneck(\n",
              "      (conv1): Conv2d(1024, 256, kernel_size=(1, 1), stride=(1, 1), bias=False)\n",
              "      (bn1): BatchNorm2d(256, eps=1e-05, momentum=0.1, affine=True, track_running_stats=True)\n",
              "      (conv2): Conv2d(256, 256, kernel_size=(3, 3), stride=(1, 1), padding=(1, 1), bias=False)\n",
              "      (bn2): BatchNorm2d(256, eps=1e-05, momentum=0.1, affine=True, track_running_stats=True)\n",
              "      (conv3): Conv2d(256, 1024, kernel_size=(1, 1), stride=(1, 1), bias=False)\n",
              "      (bn3): BatchNorm2d(1024, eps=1e-05, momentum=0.1, affine=True, track_running_stats=True)\n",
              "      (relu): ReLU(inplace)\n",
              "    )\n",
              "    (30): Bottleneck(\n",
              "      (conv1): Conv2d(1024, 256, kernel_size=(1, 1), stride=(1, 1), bias=False)\n",
              "      (bn1): BatchNorm2d(256, eps=1e-05, momentum=0.1, affine=True, track_running_stats=True)\n",
              "      (conv2): Conv2d(256, 256, kernel_size=(3, 3), stride=(1, 1), padding=(1, 1), bias=False)\n",
              "      (bn2): BatchNorm2d(256, eps=1e-05, momentum=0.1, affine=True, track_running_stats=True)\n",
              "      (conv3): Conv2d(256, 1024, kernel_size=(1, 1), stride=(1, 1), bias=False)\n",
              "      (bn3): BatchNorm2d(1024, eps=1e-05, momentum=0.1, affine=True, track_running_stats=True)\n",
              "      (relu): ReLU(inplace)\n",
              "    )\n",
              "    (31): Bottleneck(\n",
              "      (conv1): Conv2d(1024, 256, kernel_size=(1, 1), stride=(1, 1), bias=False)\n",
              "      (bn1): BatchNorm2d(256, eps=1e-05, momentum=0.1, affine=True, track_running_stats=True)\n",
              "      (conv2): Conv2d(256, 256, kernel_size=(3, 3), stride=(1, 1), padding=(1, 1), bias=False)\n",
              "      (bn2): BatchNorm2d(256, eps=1e-05, momentum=0.1, affine=True, track_running_stats=True)\n",
              "      (conv3): Conv2d(256, 1024, kernel_size=(1, 1), stride=(1, 1), bias=False)\n",
              "      (bn3): BatchNorm2d(1024, eps=1e-05, momentum=0.1, affine=True, track_running_stats=True)\n",
              "      (relu): ReLU(inplace)\n",
              "    )\n",
              "    (32): Bottleneck(\n",
              "      (conv1): Conv2d(1024, 256, kernel_size=(1, 1), stride=(1, 1), bias=False)\n",
              "      (bn1): BatchNorm2d(256, eps=1e-05, momentum=0.1, affine=True, track_running_stats=True)\n",
              "      (conv2): Conv2d(256, 256, kernel_size=(3, 3), stride=(1, 1), padding=(1, 1), bias=False)\n",
              "      (bn2): BatchNorm2d(256, eps=1e-05, momentum=0.1, affine=True, track_running_stats=True)\n",
              "      (conv3): Conv2d(256, 1024, kernel_size=(1, 1), stride=(1, 1), bias=False)\n",
              "      (bn3): BatchNorm2d(1024, eps=1e-05, momentum=0.1, affine=True, track_running_stats=True)\n",
              "      (relu): ReLU(inplace)\n",
              "    )\n",
              "    (33): Bottleneck(\n",
              "      (conv1): Conv2d(1024, 256, kernel_size=(1, 1), stride=(1, 1), bias=False)\n",
              "      (bn1): BatchNorm2d(256, eps=1e-05, momentum=0.1, affine=True, track_running_stats=True)\n",
              "      (conv2): Conv2d(256, 256, kernel_size=(3, 3), stride=(1, 1), padding=(1, 1), bias=False)\n",
              "      (bn2): BatchNorm2d(256, eps=1e-05, momentum=0.1, affine=True, track_running_stats=True)\n",
              "      (conv3): Conv2d(256, 1024, kernel_size=(1, 1), stride=(1, 1), bias=False)\n",
              "      (bn3): BatchNorm2d(1024, eps=1e-05, momentum=0.1, affine=True, track_running_stats=True)\n",
              "      (relu): ReLU(inplace)\n",
              "    )\n",
              "    (34): Bottleneck(\n",
              "      (conv1): Conv2d(1024, 256, kernel_size=(1, 1), stride=(1, 1), bias=False)\n",
              "      (bn1): BatchNorm2d(256, eps=1e-05, momentum=0.1, affine=True, track_running_stats=True)\n",
              "      (conv2): Conv2d(256, 256, kernel_size=(3, 3), stride=(1, 1), padding=(1, 1), bias=False)\n",
              "      (bn2): BatchNorm2d(256, eps=1e-05, momentum=0.1, affine=True, track_running_stats=True)\n",
              "      (conv3): Conv2d(256, 1024, kernel_size=(1, 1), stride=(1, 1), bias=False)\n",
              "      (bn3): BatchNorm2d(1024, eps=1e-05, momentum=0.1, affine=True, track_running_stats=True)\n",
              "      (relu): ReLU(inplace)\n",
              "    )\n",
              "    (35): Bottleneck(\n",
              "      (conv1): Conv2d(1024, 256, kernel_size=(1, 1), stride=(1, 1), bias=False)\n",
              "      (bn1): BatchNorm2d(256, eps=1e-05, momentum=0.1, affine=True, track_running_stats=True)\n",
              "      (conv2): Conv2d(256, 256, kernel_size=(3, 3), stride=(1, 1), padding=(1, 1), bias=False)\n",
              "      (bn2): BatchNorm2d(256, eps=1e-05, momentum=0.1, affine=True, track_running_stats=True)\n",
              "      (conv3): Conv2d(256, 1024, kernel_size=(1, 1), stride=(1, 1), bias=False)\n",
              "      (bn3): BatchNorm2d(1024, eps=1e-05, momentum=0.1, affine=True, track_running_stats=True)\n",
              "      (relu): ReLU(inplace)\n",
              "    )\n",
              "  )\n",
              "  (layer4): Sequential(\n",
              "    (0): Bottleneck(\n",
              "      (conv1): Conv2d(1024, 512, kernel_size=(1, 1), stride=(1, 1), bias=False)\n",
              "      (bn1): BatchNorm2d(512, eps=1e-05, momentum=0.1, affine=True, track_running_stats=True)\n",
              "      (conv2): Conv2d(512, 512, kernel_size=(3, 3), stride=(2, 2), padding=(1, 1), bias=False)\n",
              "      (bn2): BatchNorm2d(512, eps=1e-05, momentum=0.1, affine=True, track_running_stats=True)\n",
              "      (conv3): Conv2d(512, 2048, kernel_size=(1, 1), stride=(1, 1), bias=False)\n",
              "      (bn3): BatchNorm2d(2048, eps=1e-05, momentum=0.1, affine=True, track_running_stats=True)\n",
              "      (relu): ReLU(inplace)\n",
              "      (downsample): Sequential(\n",
              "        (0): Conv2d(1024, 2048, kernel_size=(1, 1), stride=(2, 2), bias=False)\n",
              "        (1): BatchNorm2d(2048, eps=1e-05, momentum=0.1, affine=True, track_running_stats=True)\n",
              "      )\n",
              "    )\n",
              "    (1): Bottleneck(\n",
              "      (conv1): Conv2d(2048, 512, kernel_size=(1, 1), stride=(1, 1), bias=False)\n",
              "      (bn1): BatchNorm2d(512, eps=1e-05, momentum=0.1, affine=True, track_running_stats=True)\n",
              "      (conv2): Conv2d(512, 512, kernel_size=(3, 3), stride=(1, 1), padding=(1, 1), bias=False)\n",
              "      (bn2): BatchNorm2d(512, eps=1e-05, momentum=0.1, affine=True, track_running_stats=True)\n",
              "      (conv3): Conv2d(512, 2048, kernel_size=(1, 1), stride=(1, 1), bias=False)\n",
              "      (bn3): BatchNorm2d(2048, eps=1e-05, momentum=0.1, affine=True, track_running_stats=True)\n",
              "      (relu): ReLU(inplace)\n",
              "    )\n",
              "    (2): Bottleneck(\n",
              "      (conv1): Conv2d(2048, 512, kernel_size=(1, 1), stride=(1, 1), bias=False)\n",
              "      (bn1): BatchNorm2d(512, eps=1e-05, momentum=0.1, affine=True, track_running_stats=True)\n",
              "      (conv2): Conv2d(512, 512, kernel_size=(3, 3), stride=(1, 1), padding=(1, 1), bias=False)\n",
              "      (bn2): BatchNorm2d(512, eps=1e-05, momentum=0.1, affine=True, track_running_stats=True)\n",
              "      (conv3): Conv2d(512, 2048, kernel_size=(1, 1), stride=(1, 1), bias=False)\n",
              "      (bn3): BatchNorm2d(2048, eps=1e-05, momentum=0.1, affine=True, track_running_stats=True)\n",
              "      (relu): ReLU(inplace)\n",
              "    )\n",
              "  )\n",
              "  (avgpool): AvgPool2d(kernel_size=7, stride=1, padding=0)\n",
              "  (fc): Sequential(\n",
              "    (0): Linear(in_features=2048, out_features=1024, bias=True)\n",
              "    (1): ReLU()\n",
              "    (2): Linear(in_features=1024, out_features=102, bias=True)\n",
              "    (3): LogSoftmax()\n",
              "  )\n",
              ")"
            ]
          },
          "metadata": {
            "tags": []
          },
          "execution_count": 14
        }
      ]
    },
    {
      "metadata": {
        "id": "KzMeCd36K0T3",
        "colab_type": "code",
        "colab": {}
      },
      "cell_type": "code",
      "source": [
        "def train_model(model,criterion,optimizer,scheduler,epochs):\n",
        "    running_loss = 0\n",
        "    for epoch in range(epochs):\n",
        "        \n",
        "        if epoch == 10:\n",
        "            for param in model.parameters():\n",
        "                param.requires_grad_(True)\n",
        "            print(\"Unfreezed the model\")    \n",
        "\n",
        "\n",
        "        scheduler.step()\n",
        "        for inputs, labels in trainloader:\n",
        "\n",
        "            # Move input and label tensors to the default device\n",
        "            if train_on_gpu:\n",
        "                inputs, labels = inputs.to(device), labels.to(device)\n",
        "\n",
        "            optimizer.zero_grad()\n",
        "\n",
        "            logps = model.forward(inputs)\n",
        "            loss = criterion(logps, labels)\n",
        "            loss.backward()\n",
        "            optimizer.step()\n",
        "\n",
        "            running_loss += loss.item()\n",
        "\n",
        "        else:\n",
        "            test_loss = 0\n",
        "            accuracy = 0\n",
        "            model.eval()\n",
        "            with torch.no_grad():\n",
        "                for inputs, labels in testloader:\n",
        "                    if train_on_gpu:\n",
        "                        inputs, labels = inputs.to(device), labels.to(device)\n",
        "\n",
        "                    logps = model.forward(inputs)\n",
        "                    batch_loss = criterion(logps, labels)\n",
        "\n",
        "                    test_loss += batch_loss.item()\n",
        "\n",
        "                    # Calculate accuracy\n",
        "                    ps = torch.exp(logps)\n",
        "                    top_p, top_class = ps.topk(1, dim=1)\n",
        "                    equals = top_class == labels.view(*top_class.shape)\n",
        "                    accuracy += torch.mean(equals.type(torch.FloatTensor)).item()\n",
        "\n",
        "            print(f\"Epoch {epoch+1}/{epochs}.. \"\n",
        "                  f\"Train loss: {running_loss/len(trainloader):.3f}.. \"\n",
        "                  f\"Test loss: {test_loss/len(testloader):.3f}.. \"\n",
        "                  f\"Test accuracy: {accuracy/len(testloader):.3f}\")\n",
        "\n",
        "            running_loss = 0\n",
        "            model.train()\n",
        "\n",
        "        "
      ],
      "execution_count": 0,
      "outputs": []
    },
    {
      "metadata": {
        "id": "SbSmEuh2C7Pw",
        "colab_type": "code",
        "colab": {}
      },
      "cell_type": "code",
      "source": [
        "#criterion = torch.nn.CrossEntropyLoss()\n",
        "#optimizer = torch.optim.Adam(model.fc.parameters(),lr=0.03)\n",
        "#optimizer = torch.optim.SGD(model.fc.parameters(),lr=0.01)\n",
        "\n",
        "\n",
        "\n",
        "criterion = nn.NLLLoss()\n",
        "optimizer = optim.Adam(model.fc.parameters(),lr=0.001)\n",
        "scheduler = torch.optim.lr_scheduler.StepLR(optimizer, step_size=5, gamma=0.01)\n",
        "\n",
        "epochs = 40"
      ],
      "execution_count": 0,
      "outputs": []
    },
    {
      "metadata": {
        "id": "HDWoXamFDSn_",
        "colab_type": "code",
        "outputId": "1c73657f-1a77-48a5-d896-ae0493b5ca30",
        "colab": {
          "base_uri": "https://localhost:8080/",
          "height": 714
        }
      },
      "cell_type": "code",
      "source": [
        "model_ft = train_model(model,criterion,optimizer,scheduler,epochs)"
      ],
      "execution_count": 0,
      "outputs": [
        {
          "output_type": "stream",
          "text": [
            "Epoch 1/40.. Train loss: 2.161.. Test loss: 0.735.. Test accuracy: 0.827\n",
            "Epoch 2/40.. Train loss: 0.552.. Test loss: 0.402.. Test accuracy: 0.890\n",
            "Epoch 3/40.. Train loss: 0.339.. Test loss: 0.363.. Test accuracy: 0.907\n",
            "Epoch 4/40.. Train loss: 0.241.. Test loss: 0.388.. Test accuracy: 0.898\n",
            "Epoch 5/40.. Train loss: 0.181.. Test loss: 0.285.. Test accuracy: 0.929\n",
            "Epoch 6/40.. Train loss: 0.125.. Test loss: 0.248.. Test accuracy: 0.934\n",
            "Epoch 7/40.. Train loss: 0.108.. Test loss: 0.230.. Test accuracy: 0.943\n",
            "Epoch 8/40.. Train loss: 0.100.. Test loss: 0.217.. Test accuracy: 0.951\n",
            "Epoch 9/40.. Train loss: 0.095.. Test loss: 0.219.. Test accuracy: 0.952\n",
            "Epoch 10/40.. Train loss: 0.090.. Test loss: 0.215.. Test accuracy: 0.955\n",
            "Unfreezed the model\n",
            "Epoch 11/40.. Train loss: 0.087.. Test loss: 0.216.. Test accuracy: 0.951\n",
            "Epoch 12/40.. Train loss: 0.091.. Test loss: 0.213.. Test accuracy: 0.951\n",
            "Epoch 13/40.. Train loss: 0.089.. Test loss: 0.214.. Test accuracy: 0.952\n",
            "Epoch 14/40.. Train loss: 0.091.. Test loss: 0.221.. Test accuracy: 0.945\n",
            "Epoch 15/40.. Train loss: 0.089.. Test loss: 0.219.. Test accuracy: 0.950\n",
            "Epoch 16/40.. Train loss: 0.091.. Test loss: 0.214.. Test accuracy: 0.949\n",
            "Epoch 17/40.. Train loss: 0.090.. Test loss: 0.215.. Test accuracy: 0.949\n",
            "Epoch 18/40.. Train loss: 0.088.. Test loss: 0.210.. Test accuracy: 0.950\n",
            "Epoch 19/40.. Train loss: 0.093.. Test loss: 0.209.. Test accuracy: 0.950\n",
            "Epoch 20/40.. Train loss: 0.091.. Test loss: 0.216.. Test accuracy: 0.949\n",
            "Epoch 21/40.. Train loss: 0.090.. Test loss: 0.214.. Test accuracy: 0.952\n",
            "Epoch 22/40.. Train loss: 0.090.. Test loss: 0.214.. Test accuracy: 0.952\n",
            "Epoch 23/40.. Train loss: 0.090.. Test loss: 0.211.. Test accuracy: 0.946\n",
            "Epoch 24/40.. Train loss: 0.088.. Test loss: 0.217.. Test accuracy: 0.949\n",
            "Epoch 25/40.. Train loss: 0.091.. Test loss: 0.217.. Test accuracy: 0.947\n",
            "Epoch 26/40.. Train loss: 0.093.. Test loss: 0.217.. Test accuracy: 0.947\n",
            "Epoch 27/40.. Train loss: 0.089.. Test loss: 0.216.. Test accuracy: 0.950\n",
            "Epoch 28/40.. Train loss: 0.092.. Test loss: 0.215.. Test accuracy: 0.952\n",
            "Epoch 29/40.. Train loss: 0.089.. Test loss: 0.214.. Test accuracy: 0.950\n",
            "Epoch 30/40.. Train loss: 0.091.. Test loss: 0.208.. Test accuracy: 0.951\n",
            "Epoch 31/40.. Train loss: 0.095.. Test loss: 0.210.. Test accuracy: 0.951\n",
            "Epoch 32/40.. Train loss: 0.092.. Test loss: 0.217.. Test accuracy: 0.952\n",
            "Epoch 33/40.. Train loss: 0.089.. Test loss: 0.211.. Test accuracy: 0.952\n",
            "Epoch 34/40.. Train loss: 0.087.. Test loss: 0.215.. Test accuracy: 0.951\n",
            "Epoch 35/40.. Train loss: 0.093.. Test loss: 0.218.. Test accuracy: 0.947\n",
            "Epoch 36/40.. Train loss: 0.089.. Test loss: 0.212.. Test accuracy: 0.952\n",
            "Epoch 37/40.. Train loss: 0.089.. Test loss: 0.213.. Test accuracy: 0.950\n",
            "Epoch 38/40.. Train loss: 0.094.. Test loss: 0.213.. Test accuracy: 0.951\n",
            "Epoch 39/40.. Train loss: 0.089.. Test loss: 0.213.. Test accuracy: 0.950\n",
            "Epoch 40/40.. Train loss: 0.092.. Test loss: 0.214.. Test accuracy: 0.947\n"
          ],
          "name": "stdout"
        }
      ]
    },
    {
      "metadata": {
        "id": "099gStfaEoeP",
        "colab_type": "code",
        "colab": {}
      },
      "cell_type": "code",
      "source": [
        "def model_accuracy(model,data):\n",
        "    test_loss = 0\n",
        "    accuracy = 0\n",
        "    model.eval()\n",
        "    with torch.no_grad():\n",
        "        for inputs, labels in data:\n",
        "            if train_on_gpu:\n",
        "                inputs, labels = inputs.to(device), labels.to(device)\n",
        "\n",
        "            logps = model.forward(inputs)\n",
        "            batch_loss = criterion(logps, labels)\n",
        "\n",
        "            test_loss += batch_loss.item()\n",
        "\n",
        "            # Calculate accuracy\n",
        "            ps = torch.exp(logps)\n",
        "            top_p, top_class = ps.topk(1, dim=1)\n",
        "            equals = top_class == labels.view(*top_class.shape)\n",
        "            accuracy += torch.mean(equals.type(torch.FloatTensor)).item()\n",
        "            \n",
        "    print(\n",
        "            f\"Test loss: {test_loss/len(data):.3f}.. \"\n",
        "            f\"Test accuracy: {accuracy/len(data):.3f}\")\n"
      ],
      "execution_count": 0,
      "outputs": []
    },
    {
      "metadata": {
        "id": "4WOyiMydIZ5j",
        "colab_type": "code",
        "outputId": "ca17eeb8-82b3-4351-cfee-27d9c92e6eb3",
        "colab": {
          "base_uri": "https://localhost:8080/",
          "height": 34
        }
      },
      "cell_type": "code",
      "source": [
        "model_accuracy(model,testloader)"
      ],
      "execution_count": 0,
      "outputs": [
        {
          "output_type": "stream",
          "text": [
            "Test loss: 0.214.. Test accuracy: 0.947\n"
          ],
          "name": "stdout"
        }
      ]
    },
    {
      "metadata": {
        "id": "Ja26Kh96TFuC",
        "colab_type": "code",
        "outputId": "bb72f27f-dab4-4868-bb51-d4fe83fd1a0b",
        "colab": {
          "base_uri": "https://localhost:8080/",
          "height": 122
        }
      },
      "cell_type": "code",
      "source": [
        "from google.colab import drive\n",
        "drive.mount('/content/gdrive')"
      ],
      "execution_count": 0,
      "outputs": [
        {
          "output_type": "stream",
          "text": [
            "Go to this URL in a browser: https://accounts.google.com/o/oauth2/auth?client_id=947318989803-6bn6qk8qdgf4n4g3pfee6491hc0brc4i.apps.googleusercontent.com&redirect_uri=urn%3Aietf%3Awg%3Aoauth%3A2.0%3Aoob&scope=email%20https%3A%2F%2Fwww.googleapis.com%2Fauth%2Fdocs.test%20https%3A%2F%2Fwww.googleapis.com%2Fauth%2Fdrive%20https%3A%2F%2Fwww.googleapis.com%2Fauth%2Fdrive.photos.readonly%20https%3A%2F%2Fwww.googleapis.com%2Fauth%2Fpeopleapi.readonly&response_type=code\n",
            "\n",
            "Enter your authorization code:\n",
            "··········\n",
            "Mounted at /content/gdrive\n"
          ],
          "name": "stdout"
        }
      ]
    },
    {
      "metadata": {
        "id": "qVYOo6A7GRPR",
        "colab_type": "code",
        "outputId": "25aaad2b-ce3b-44fd-a7a2-cb97499f689a",
        "colab": {
          "base_uri": "https://localhost:8080/",
          "height": 34
        }
      },
      "cell_type": "code",
      "source": [
        "drive.mount('/content/gdrive')"
      ],
      "execution_count": 0,
      "outputs": [
        {
          "output_type": "stream",
          "text": [
            "Drive already mounted at /content/gdrive; to attempt to forcibly remount, call drive.mount(\"/content/gdrive\", force_remount=True).\n"
          ],
          "name": "stdout"
        }
      ]
    },
    {
      "metadata": {
        "id": "hBbzJOJWaBe0",
        "colab_type": "code",
        "colab": {}
      },
      "cell_type": "code",
      "source": [
        "google_data = \"gdrive/My Drive/Colab Notebooks/google_test_data\""
      ],
      "execution_count": 0,
      "outputs": []
    },
    {
      "metadata": {
        "id": "lbYu2HszaERW",
        "colab_type": "code",
        "colab": {}
      },
      "cell_type": "code",
      "source": [
        "\n",
        "google_transforms = transforms.Compose([transforms.Resize(255),\n",
        "                                      transforms.CenterCrop(224),\n",
        "                                      transforms.ToTensor(),\n",
        "                                     transforms.Normalize([0.485, 0.456, 0.406], [0.229, 0.224, 0.225])\n",
        "                                     ])\n",
        "\n",
        "\n",
        "google_data = datasets.ImageFolder(google_data,transform=google_transforms)\n",
        "\n",
        "googleloader = torch.utils.data.DataLoader(google_data,batch_size=32)"
      ],
      "execution_count": 0,
      "outputs": []
    },
    {
      "metadata": {
        "id": "Rwhw3YHPaGbY",
        "colab_type": "code",
        "outputId": "e21e12ab-05d0-43af-aec9-b1df9933f914",
        "colab": {
          "base_uri": "https://localhost:8080/",
          "height": 34
        }
      },
      "cell_type": "code",
      "source": [
        "model_accuracy(model,googleloader)"
      ],
      "execution_count": 0,
      "outputs": [
        {
          "output_type": "stream",
          "text": [
            "Test loss: 2.459.. Test accuracy: 0.600\n"
          ],
          "name": "stdout"
        }
      ]
    },
    {
      "metadata": {
        "id": "7GrvsMFGGbQ8",
        "colab_type": "code",
        "colab": {}
      },
      "cell_type": "code",
      "source": [
        "model_save_name = 'classifier_95.pt'\n",
        "path = F\"/content/gdrive/My Drive/{model_save_name}\" \n",
        "torch.save(model.state_dict(), path)"
      ],
      "execution_count": 0,
      "outputs": []
    },
    {
      "metadata": {
        "id": "7S9FchlFk3Uz",
        "colab_type": "text"
      },
      "cell_type": "markdown",
      "source": [
        "## Save the checkpoint\n",
        "\n",
        "Now that your network is trained, save the model so you can load it later for making predictions. You probably want to save other things such as the mapping of classes to indices which you get from one of the image datasets: `image_datasets['train'].class_to_idx`. You can attach this to the model as an attribute which makes inference easier later on.\n",
        "\n",
        "```model.class_to_idx = image_datasets['train'].class_to_idx```\n",
        "\n",
        "Remember that you'll want to completely rebuild the model later so you can use it for inference. Make sure to include any information you need in the checkpoint. If you want to load the model and keep training, you'll want to save the number of epochs as well as the optimizer state, `optimizer.state_dict`. You'll likely want to use this trained model in the next part of the project, so best to save it now."
      ]
    },
    {
      "metadata": {
        "id": "oRhv6V5Uk3U5",
        "colab_type": "code",
        "colab": {}
      },
      "cell_type": "code",
      "source": [
        "# TODO: Save the checkpoint \n",
        "\n",
        "path = F\"/content/gdrive/My Drive/{model_save_name}\" \n",
        "model.class_to_idx = train_data.class_to_idx\n",
        "\n",
        "torch.save({'arch': 'resnet152',\n",
        "            'state_dict': model.state_dict(), \n",
        "            'class_to_idx': model.class_to_idx}, \n",
        "            path)\n"
      ],
      "execution_count": 0,
      "outputs": []
    },
    {
      "metadata": {
        "id": "ogUizB7jk3U9",
        "colab_type": "text"
      },
      "cell_type": "markdown",
      "source": [
        "## Loading the checkpoint\n",
        "\n",
        "At this point it's good to write a function that can load a checkpoint and rebuild the model. That way you can come back to this project and keep working on it without having to retrain the network."
      ]
    },
    {
      "metadata": {
        "id": "kDSd3QDGd8GG",
        "colab_type": "text"
      },
      "cell_type": "markdown",
      "source": [
        ""
      ]
    },
    {
      "metadata": {
        "id": "LCspFgGAk3VA",
        "colab_type": "code",
        "colab": {}
      },
      "cell_type": "code",
      "source": [
        "# TODO: Write a function that loads a checkpoint and rebuilds the model\n",
        "def load_model(path):\n",
        "  \n",
        "  temp = torch.load(path)\n",
        "  \n",
        "  model = models.resnet152(pretrained=True)\n",
        "  for param in model.parameters():\n",
        "      param.requires_grad_(False)\n",
        "      \n",
        "  model.class_to_idx = temp['class_to_idx']\n",
        "  model.fc = nn.Sequential(nn.Linear(2048,1024),\n",
        "                                nn.ReLU(),\n",
        "                                nn.Linear(1024,102),\n",
        "                                nn.LogSoftmax(dim=1))\n",
        "  \n",
        "  model.load_state_dict(temp[\"state_dict\"],strict=False)\n",
        "  \n",
        "  return model\n",
        "\n",
        "  "
      ],
      "execution_count": 0,
      "outputs": []
    },
    {
      "metadata": {
        "id": "qfLWByrqk3VD",
        "colab_type": "text"
      },
      "cell_type": "markdown",
      "source": [
        "# Inference for classification\n",
        "\n",
        "Now you'll write a function to use a trained network for inference. That is, you'll pass an image into the network and predict the class of the flower in the image. Write a function called `predict` that takes an image and a model, then returns the top $K$ most likely classes along with the probabilities. It should look like \n",
        "\n",
        "```python\n",
        "probs, classes = predict(image_path, model)\n",
        "print(probs)\n",
        "print(classes)\n",
        "> [ 0.01558163  0.01541934  0.01452626  0.01443549  0.01407339]\n",
        "> ['70', '3', '45', '62', '55']\n",
        "```\n",
        "\n",
        "First you'll need to handle processing the input image such that it can be used in your network. \n",
        "\n",
        "## Image Preprocessing\n",
        "\n",
        "You'll want to use `PIL` to load the image ([documentation](https://pillow.readthedocs.io/en/latest/reference/Image.html)). It's best to write a function that preprocesses the image so it can be used as input for the model. This function should process the images in the same manner used for training. \n",
        "\n",
        "First, resize the images where the shortest side is 256 pixels, keeping the aspect ratio. This can be done with the [`thumbnail`](http://pillow.readthedocs.io/en/3.1.x/reference/Image.html#PIL.Image.Image.thumbnail) or [`resize`](http://pillow.readthedocs.io/en/3.1.x/reference/Image.html#PIL.Image.Image.thumbnail) methods. Then you'll need to crop out the center 224x224 portion of the image.\n",
        "\n",
        "Color channels of images are typically encoded as integers 0-255, but the model expected floats 0-1. You'll need to convert the values. It's easiest with a Numpy array, which you can get from a PIL image like so `np_image = np.array(pil_image)`.\n",
        "\n",
        "As before, the network expects the images to be normalized in a specific way. For the means, it's `[0.485, 0.456, 0.406]` and for the standard deviations `[0.229, 0.224, 0.225]`. You'll want to subtract the means from each color channel, then divide by the standard deviation. \n",
        "\n",
        "And finally, PyTorch expects the color channel to be the first dimension but it's the third dimension in the PIL image and Numpy array. You can reorder dimensions using [`ndarray.transpose`](https://docs.scipy.org/doc/numpy-1.13.0/reference/generated/numpy.ndarray.transpose.html). The color channel needs to be first and retain the order of the other two dimensions."
      ]
    },
    {
      "metadata": {
        "id": "77uot7B3G9pO",
        "colab_type": "code",
        "colab": {}
      },
      "cell_type": "code",
      "source": [
        "def process_image(image_path):\n",
        "    \n",
        "    ''' \n",
        "    Scales, crops, and normalizes a PIL image for a PyTorch       \n",
        "    model, returns an Numpy array\n",
        "    '''\n",
        "    # Open the image\n",
        "    from PIL import Image\n",
        "    img = Image.open(image_path)\n",
        "    # Resize\n",
        "    if img.size[0] > img.size[1]:\n",
        "        img.thumbnail((10000, 256))\n",
        "    else:\n",
        "        img.thumbnail((256, 10000))\n",
        "    # Crop \n",
        "    left_margin = (img.width-224)/2\n",
        "    bottom_margin = (img.height-224)/2\n",
        "    right_margin = left_margin + 224\n",
        "    top_margin = bottom_margin + 224\n",
        "    img = img.crop((left_margin, bottom_margin, right_margin,   \n",
        "                      top_margin))\n",
        "    # Normalize\n",
        "    img = np.array(img)/255\n",
        "    mean = np.array([0.485, 0.456, 0.406]) #provided mean\n",
        "    std = np.array([0.229, 0.224, 0.225]) #provided std\n",
        "    img = (img - mean)/std\n",
        "    \n",
        "    # Move color channels to first dimension as expected by PyTorch\n",
        "    img = img.transpose((2, 0, 1))\n",
        "    \n",
        "    return img"
      ],
      "execution_count": 0,
      "outputs": []
    },
    {
      "metadata": {
        "id": "q6IruY0ik3VO",
        "colab_type": "text"
      },
      "cell_type": "markdown",
      "source": [
        "To check your work, the function below converts a PyTorch tensor and displays it in the notebook. If your `process_image` function works, running the output through this function should return the original image (except for the cropped out portions)."
      ]
    },
    {
      "metadata": {
        "id": "5bW62qu4k3VR",
        "colab_type": "code",
        "colab": {}
      },
      "cell_type": "code",
      "source": [
        "def imshow(image, ax=None, title=None):\n",
        "    if ax is None:\n",
        "        fig, ax = plt.subplots()\n",
        "    if title:\n",
        "        plt.title(title)\n",
        "    # PyTorch tensors assume the color channel is first\n",
        "    # but matplotlib assumes is the third dimension\n",
        "    image = image.transpose((1, 2, 0))\n",
        "    \n",
        "    # Undo preprocessing\n",
        "    mean = np.array([0.485, 0.456, 0.406])\n",
        "    std = np.array([0.229, 0.224, 0.225])\n",
        "    image = std * image + mean\n",
        "    \n",
        "    # Image needs to be clipped between 0 and 1\n",
        "    image = np.clip(image, 0, 1)\n",
        "    \n",
        "    ax.imshow(image)\n",
        "    \n",
        "    return ax"
      ],
      "execution_count": 0,
      "outputs": []
    },
    {
      "metadata": {
        "id": "B84CyoP6JRSl",
        "colab_type": "code",
        "outputId": "fd85357b-c77d-432c-a953-a34d0e2189d0",
        "colab": {
          "base_uri": "https://localhost:8080/",
          "height": 367
        }
      },
      "cell_type": "code",
      "source": [
        "image_path = 'flower_data/valid/28/image_05258.jpg'\n",
        "img = process_image(image_path)\n",
        "imshow(img)"
      ],
      "execution_count": 0,
      "outputs": [
        {
          "output_type": "execute_result",
          "data": {
            "text/plain": [
              "<matplotlib.axes._subplots.AxesSubplot at 0x7f646ea0a390>"
            ]
          },
          "metadata": {
            "tags": []
          },
          "execution_count": 34
        },
        {
          "output_type": "display_data",
          "data": {
            "image/png": "iVBORw0KGgoAAAANSUhEUgAAAVEAAAFNCAYAAAC5YlyiAAAABHNCSVQICAgIfAhkiAAAAAlwSFlz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\nRxCbTXQTm9jEJh5B/H/Ufo74mQo5GQAAAABJRU5ErkJggg==\n",
            "text/plain": [
              "<matplotlib.figure.Figure at 0x7f646e9d7a58>"
            ]
          },
          "metadata": {
            "tags": []
          }
        }
      ]
    },
    {
      "metadata": {
        "id": "g155WYaJk3VZ",
        "colab_type": "text"
      },
      "cell_type": "markdown",
      "source": [
        "## Class Prediction\n",
        "\n",
        "Once you can get images in the correct format, it's time to write a function for making predictions with your model. A common practice is to predict the top 5 or so (usually called top-$K$) most probable classes. You'll want to calculate the class probabilities then find the $K$ largest values.\n",
        "\n",
        "To get the top $K$ largest values in a tensor use [`x.topk(k)`](http://pytorch.org/docs/master/torch.html#torch.topk). This method returns both the highest `k` probabilities and the indices of those probabilities corresponding to the classes. You need to convert from these indices to the actual class labels using `class_to_idx` which hopefully you added to the model or from an `ImageFolder` you used to load the data ([see here](#Save-the-checkpoint)). Make sure to invert the dictionary so you get a mapping from index to class as well.\n",
        "\n",
        "Again, this method should take a path to an image and a model checkpoint, then return the probabilities and classes.\n",
        "\n",
        "```python\n",
        "probs, classes = predict(image_path, model)\n",
        "print(probs)\n",
        "print(classes)\n",
        "> [ 0.01558163  0.01541934  0.01452626  0.01443549  0.01407339]\n",
        "> ['70', '3', '45', '62', '55']\n",
        "```"
      ]
    },
    {
      "metadata": {
        "id": "J_OuD8oqk3Vb",
        "colab_type": "code",
        "colab": {}
      },
      "cell_type": "code",
      "source": [
        "def predict(image_path, model, top_num=5):\n",
        "    # Process image\n",
        "    img = process_image(image_path)\n",
        "    \n",
        "    # Numpy -> Tensor\n",
        "    image_tensor = torch.from_numpy(img).type(torch.FloatTensor)\n",
        "    # Add batch of size 1 to image\n",
        "    model_input = image_tensor.unsqueeze(0)\n",
        "    \n",
        "    # Probs\n",
        "    probs = torch.exp(model.forward(model_input))\n",
        "    \n",
        "    # Top probs\n",
        "    top_probs, top_labs = probs.topk(top_num)\n",
        "    top_probs = top_probs.detach().numpy().tolist()[0] \n",
        "    top_labs = top_labs.detach().numpy().tolist()[0]\n",
        "    \n",
        "    # Convert indices to classes\n",
        "    idx_to_class = {val: key for key, val in    \n",
        "                                      model.class_to_idx.items()}\n",
        "    top_labels = [idx_to_class[lab] for lab in top_labs]\n",
        "    top_flowers = [cat_to_name[idx_to_class[lab]] for lab in top_labs]\n",
        "    return top_probs, top_labels, top_flowers"
      ],
      "execution_count": 0,
      "outputs": []
    },
    {
      "metadata": {
        "id": "UPF6dQmEk3Vf",
        "colab_type": "text"
      },
      "cell_type": "markdown",
      "source": [
        "## Sanity Checking\n",
        "\n",
        "Now that you can use a trained model for predictions, check to make sure it makes sense. Even if the validation accuracy is high, it's always good to check that there aren't obvious bugs. Use `matplotlib` to plot the probabilities for the top 5 classes as a bar graph, along with the input image. It should look like this:\n",
        "\n",
        "<img src='assets/inference_example.png' width=300px>\n",
        "\n",
        "You can convert from the class integer encoding to actual flower names with the `cat_to_name.json` file (should have been loaded earlier in the notebook). To show a PyTorch tensor as an image, use the `imshow` function defined above."
      ]
    },
    {
      "metadata": {
        "id": "m5BQg_d6k3Vk",
        "colab_type": "code",
        "colab": {}
      },
      "cell_type": "code",
      "source": [
        "def plot_solution(image_path, model):\n",
        "    # Set up plot\n",
        "    plt.figure(figsize = (6,10))\n",
        "    ax = plt.subplot(2,1,1)\n",
        "    # Set up title\n",
        "    flower_num = image_path.split('/')[1]\n",
        "    title_ = cat_to_name[flower_num]\n",
        "    # Plot flower\n",
        "    img = process_image(image_path)\n",
        "    imshow(img, ax, title = title_);\n",
        "    # Make prediction\n",
        "    probs, labs, flowers = predict(image_path, model) \n",
        "    # Plot bar chart\n",
        "    plt.subplot(2,1,2)\n",
        "    sns.barplot(x=probs, y=flowers, color=sns.color_palette()[0]);\n",
        "    plt.show()"
      ],
      "execution_count": 0,
      "outputs": []
    },
    {
      "metadata": {
        "id": "dWvV2ZUFKXnZ",
        "colab_type": "code",
        "colab": {}
      },
      "cell_type": "code",
      "source": [
        "image_path = 'flower_data/valid/28/image_05258.jpg'\n",
        "plot_solution(image_path, model)"
      ],
      "execution_count": 0,
      "outputs": []
    },
    {
      "metadata": {
        "id": "DRus68cIKgvn",
        "colab_type": "code",
        "colab": {}
      },
      "cell_type": "code",
      "source": [
        ""
      ],
      "execution_count": 0,
      "outputs": []
    }
  ]
}
